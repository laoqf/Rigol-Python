{
 "cells": [
  {
   "cell_type": "code",
   "execution_count": 9,
   "id": "67cc7012",
   "metadata": {},
   "outputs": [],
   "source": [
    "import pyvisa\n",
    "import time"
   ]
  },
  {
   "cell_type": "code",
   "execution_count": 12,
   "id": "9ddc140a",
   "metadata": {},
   "outputs": [],
   "source": [
    "rm = pyvisa.ResourceManager()\n",
    "instrument_list = rm.list_resources()\n",
    "\n",
    "usb_address = [elem for elem in instrument_list if (elem.find('USB') != -1 and elem.find('0x1AB1') != -1 and elem.find('0x0E11') != -1)]  # Search a instrument with USB and serial number in the instrument list\n",
    "tcpip_address = [elem for elem in instrument_list if elem.find('TCPIP') != -1]"
   ]
  },
  {
   "cell_type": "code",
   "execution_count": 14,
   "id": "e370ba97",
   "metadata": {},
   "outputs": [
    {
     "name": "stdout",
     "output_type": "stream",
     "text": [
      "['TCPIP0::192.168.1.109::inst0::INSTR', 'TCPIP0::192.168.1.114::inst0::INSTR']\n"
     ]
    }
   ],
   "source": [
    "print(tcpip_address)\n",
    "device = rm.open_resource(tcpip_address[1])"
   ]
  },
  {
   "cell_type": "code",
   "execution_count": 17,
   "id": "6f04d9dc",
   "metadata": {},
   "outputs": [
    {
     "data": {
      "text/plain": [
       "14"
      ]
     },
     "execution_count": 17,
     "metadata": {},
     "output_type": "execute_result"
    }
   ],
   "source": [
    "device.write(':OUTP CH3,ON')"
   ]
  },
  {
   "cell_type": "code",
   "execution_count": 18,
   "id": "e6f73fdf",
   "metadata": {},
   "outputs": [
    {
     "data": {
      "text/plain": [
       "15"
      ]
     },
     "execution_count": 18,
     "metadata": {},
     "output_type": "execute_result"
    }
   ],
   "source": [
    "device.write(':OUTP CH3,OFF')"
   ]
  },
  {
   "cell_type": "code",
   "execution_count": 3,
   "id": "acce5f54",
   "metadata": {},
   "outputs": [
    {
     "name": "stdout",
     "output_type": "stream",
     "text": [
      "Connected\n"
     ]
    }
   ],
   "source": [
    "from DP832_LAN import DP832\n",
    "\n",
    "try:\n",
    "    PSU = DP832()\n",
    "    print(PSU.status)\n",
    "except:\n",
    "    print(\"Connection Failed, Script Ended\")\n",
    "\n",
    "PSU.toggle_output(2, 0)\n",
    "# PSU.set_voltage(1, 13.333)\n",
    "# print(PSU.measure_current(1))"
   ]
  },
  {
   "cell_type": "code",
   "execution_count": 31,
   "id": "251902b7",
   "metadata": {},
   "outputs": [],
   "source": [
    "_delay = 0.01  # in seconds\n",
    "\n",
    "class DP832:\n",
    "    def __init__(self):\n",
    "        try:\n",
    "            self.rm = ResourceManager()\n",
    "            self.instrument_list = self.rm.list_resources()\n",
    "\n",
    "            self.address = [elem for elem in self.instrument_list if (elem.find('USB') != -1 and elem.find('0x1AB1') != -1 and elem.find('0x0E11') != -1)]  # Search a instrument with USB and serial number in the instrument list\n",
    "\n",
    "            if self.address.__len__() == 0:\n",
    "                self.status = \"Not Connected\"\n",
    "                # print(\"Could not connect to device\")\n",
    "            else:\n",
    "                self.address = self.address[0]\n",
    "                self.device = self.rm.open_resource(self.address)\n",
    "                # print(\"Connected to \" + self.address)\n",
    "                self.status = \"Connected\"\n",
    "                self.connected_with = 'USB'\n",
    "\n",
    "        except VisaIOError:\n",
    "            self.status = \"Not Connected\"\n",
    "            # print(\"PyVISA is not able to find any devices\")\n",
    "    def toggle_output(self, chan, state):\n",
    "        # define a TOGGLE OUTPUT function\n",
    "        command = ':OUTP CH%s,%s' % (chan, state)\n",
    "        self.device.write(command)\n",
    "        time.sleep(_delay)"
   ]
  },
  {
   "cell_type": "code",
   "execution_count": 19,
   "id": "cba8b4f0",
   "metadata": {},
   "outputs": [],
   "source": [
    "PSU = DP832()"
   ]
  },
  {
   "cell_type": "code",
   "execution_count": 45,
   "id": "8daaad6f",
   "metadata": {},
   "outputs": [
    {
     "data": {
      "text/plain": [
       "13"
      ]
     },
     "execution_count": 45,
     "metadata": {},
     "output_type": "execute_result"
    }
   ],
   "source": [
    "PSU.device.write(':OUTP CH1,0')\n",
    "# time.sleep(1)\n",
    "# PSU.device.write(':OUTP CH1,0')"
   ]
  },
  {
   "cell_type": "code",
   "execution_count": null,
   "id": "142af0e9",
   "metadata": {},
   "outputs": [],
   "source": []
  }
 ],
 "metadata": {
  "kernelspec": {
   "display_name": "Python 3",
   "language": "python",
   "name": "python3"
  },
  "language_info": {
   "codemirror_mode": {
    "name": "ipython",
    "version": 3
   },
   "file_extension": ".py",
   "mimetype": "text/x-python",
   "name": "python",
   "nbconvert_exporter": "python",
   "pygments_lexer": "ipython3",
   "version": "3.8.8"
  }
 },
 "nbformat": 4,
 "nbformat_minor": 5
}
